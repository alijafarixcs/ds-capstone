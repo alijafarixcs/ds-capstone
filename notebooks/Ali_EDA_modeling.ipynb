{
 "cells": [
  {
   "cell_type": "code",
   "execution_count": null,
   "metadata": {},
   "outputs": [],
   "source": [
    "\n",
    "import numpy as np\n",
    "import pandas as pd\n",
    "import seaborn as sns \n",
    "import matplotlib.pyplot as plt \n",
    "import random \n",
    "import sys\n",
    "sys.path.append('./lib')\n",
    "from lib.cleaning import *\n",
    "from lib.data_prepration import *\n",
    "from lib.paralellism import *\n",
    "from lib.mydoc2vec import *\n",
    "import nltk\n",
    "from nltk.corpus import stopwords\n",
    "from gensim.models import Word2Vec\n",
    "import nltk\n",
    "\n",
    "from gensim.models import Doc2Vec\n",
    "from collections import namedtuple\n",
    "from gensim.models.doc2vec import Doc2Vec, TaggedDocument\n",
    "from nltk.tokenize import word_tokenize\n",
    "#!pip install scipy==1.12\n",
    "SEED = 448"
   ]
  },
  {
   "cell_type": "code",
   "execution_count": null,
   "metadata": {},
   "outputs": [],
   "source": [
    "import torch\n",
    "#!pip install Pillow<=9.5.0\n",
    "#!pip3 install torch torchvision torchaudio --index-url https://download.pytorch.org/whl/cu121\n",
    "with torch.device('cuda'):\n",
    "    print('gpu')"
   ]
  },
  {
   "cell_type": "code",
   "execution_count": null,
   "metadata": {},
   "outputs": [],
   "source": [
    "\"\"\"\n",
    "!pip install pandarallel\n",
    "!pip install nltk \n",
    "!python.exe -m pip install --upgrade pip\n",
    "!pip install gensim\n",
    "!pip install scipy==1.12 --upgrade\"\"\""
   ]
  },
  {
   "cell_type": "code",
   "execution_count": null,
   "metadata": {},
   "outputs": [],
   "source": [
    "file_path = '../data/book_review.csv'\n",
    "data_prep = DataPreparation(file_path)\n",
    "data_prep.clean_and_preprocess(True)\n",
    "data_prep.Normalize()\n",
    "data_prep.data=data_prep.data[['title', 'price', 'helpfulness', 'score', 'time',\n",
    "       'summary', 'text', 'description', 'authors', 'publisher',\n",
    "       'publisheddate', 'categories', 'ratingscount']]\n",
    "data_prep.data"
   ]
  },
  {
   "cell_type": "code",
   "execution_count": null,
   "metadata": {},
   "outputs": [],
   "source": [
    "data_prep.data.columns"
   ]
  },
  {
   "cell_type": "code",
   "execution_count": null,
   "metadata": {},
   "outputs": [],
   "source": [
    "print(len(data_prep.data))\n",
    "print(data_prep.data.info())\n",
    "print(data_prep.data.describe())"
   ]
  },
  {
   "cell_type": "code",
   "execution_count": null,
   "metadata": {},
   "outputs": [],
   "source": [
    "data_prep.data.isnull().sum()"
   ]
  },
  {
   "cell_type": "code",
   "execution_count": null,
   "metadata": {},
   "outputs": [],
   "source": [
    "data_prep.data.score.value_counts()"
   ]
  },
  {
   "cell_type": "code",
   "execution_count": null,
   "metadata": {},
   "outputs": [],
   "source": [
    "#data_prep.generate_plots()"
   ]
  },
  {
   "cell_type": "code",
   "execution_count": null,
   "metadata": {},
   "outputs": [],
   "source": [
    "corr_matrix = data_prep.data.select_dtypes(include=[np.number]).corr()\n",
    "sns.heatmap(corr_matrix, annot=True, cmap='coolwarm')\n",
    "plt.show()"
   ]
  },
  {
   "cell_type": "code",
   "execution_count": null,
   "metadata": {},
   "outputs": [],
   "source": [
    "join_func = lambda x: ', '.join(map(str, x))\n",
    "data_prep.data['all']=data_prep.data['title'] + data_prep.data['description'] + data_prep.data['authors'].apply(join_func)+data_prep.data['categories'].apply(join_func)\n",
    "#data_prep.data=data_prep.data[['all']]\n",
    "data_prep.data['all']\n"
   ]
  },
  {
   "cell_type": "code",
   "execution_count": null,
   "metadata": {},
   "outputs": [],
   "source": [
    "#del data_prep.data\n",
    "#del data_prep"
   ]
  },
  {
   "cell_type": "code",
   "execution_count": null,
   "metadata": {},
   "outputs": [],
   "source": [
    "\n",
    "#tagged_data = [TaggedDocument(words=word_tokenize(_d.lower()), tags=[str(i)]) for i, _d in enumerate(data_prep.data['all'])]\n"
   ]
  },
  {
   "cell_type": "code",
   "execution_count": null,
   "metadata": {},
   "outputs": [],
   "source": [
    "\n",
    "#pls=Parallelism(8)\n",
    "#pls.set_worker()\n",
    "\n",
    "def preprocess_document(text):\n",
    "  import nltk\n",
    "  from nltk.tokenize import word_tokenize\n",
    "  from nltk.corpus import stopwords\n",
    "  tokens = word_tokenize(text.lower())\n",
    "  cleaned_tokens = [word for word in tokens if word not in stopwords.words('english')]\n",
    "  return cleaned_tokens\n",
    "#preprocessed_documents = pls.do_paralell(data_prep.data,'all',preprocess_document)"
   ]
  },
  {
   "cell_type": "code",
   "execution_count": null,
   "metadata": {},
   "outputs": [],
   "source": [
    "\n",
    "_doc2vec = Doc2VecRecommender()\n",
    "testdata=_doc2vec.train(data_prep.data)\n"
   ]
  },
  {
   "cell_type": "code",
   "execution_count": null,
   "metadata": {},
   "outputs": [],
   "source": [
    "_doc2vec.model.save(\"doc2vec_model_hole\")"
   ]
  },
  {
   "cell_type": "code",
   "execution_count": null,
   "metadata": {},
   "outputs": [],
   "source": [
    "_doc2vec_load = Doc2VecRecommender(data_prep.data)\n",
    "_doc2vec_load.load_model('doc2vec_model_hole')\n"
   ]
  },
  {
   "cell_type": "code",
   "execution_count": null,
   "metadata": {},
   "outputs": [],
   "source": [
    "search='after ice age a lion king is back'\n",
    "_doc2vec_load.recommend_by_text(search) "
   ]
  }
 ],
 "metadata": {
  "kernelspec": {
   "display_name": ".venv",
   "language": "python",
   "name": "python3"
  },
  "language_info": {
   "codemirror_mode": {
    "name": "ipython",
    "version": 3
   },
   "file_extension": ".py",
   "mimetype": "text/x-python",
   "name": "python",
   "nbconvert_exporter": "python",
   "pygments_lexer": "ipython3",
   "version": "3.11.9"
  }
 },
 "nbformat": 4,
 "nbformat_minor": 2
}
