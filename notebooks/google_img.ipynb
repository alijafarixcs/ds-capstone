{
 "cells": [
  {
   "cell_type": "code",
   "execution_count": 2,
   "metadata": {},
   "outputs": [
    {
     "name": "stdout",
     "output_type": "stream",
     "text": [
      "Could not find image URL for 'Harry potter'.\n"
     ]
    }
   ],
   "source": [
    "import requests\n",
    "from bs4 import BeautifulSoup\n",
    "\n",
    "def get_book_search_url(book_title):\n",
    "    \"\"\"Constructs a Google Books search URL.\"\"\"\n",
    "    base_url = \"https://www.googleapis.com/books/v1/volumes\"\n",
    "    params = {\n",
    "        \"q\": book_title,\n",
    "        \"key\": \"YOUR_API_KEY\"  # Replace with your Google Books API key (if applicable)\n",
    "    }\n",
    "    return base_url + \"?\" + \"&\".join(f\"{k}={v}\" for k, v in params.items())\n",
    "\n",
    "def get_book_cover_image(book_title):\n",
    "    \"\"\"Searches for the book and attempts to extract the cover image URL from the search result page.\"\"\"\n",
    "    search_url = get_book_search_url(book_title)\n",
    "    response = requests.get(search_url)\n",
    "\n",
    "    if response.status_code == 200:\n",
    "        soup = BeautifulSoup(response.content, 'html.parser')\n",
    "\n",
    "        # Example logic for extracting image URL from Google Books search result (replace with appropriate selectors for your chosen API)\n",
    "        image_element = soup.find(\"img\", {\"class\": \"thumbnail\"})  # Adjust selector as needed based on API response structure\n",
    "        if image_element:\n",
    "            return image_element.get(\"src\")\n",
    "\n",
    "    return None\n",
    "\n",
    "# Example Usage\n",
    "book_title = \"Harry potter\"\n",
    "image_url = get_book_cover_image(book_title)\n",
    "\n",
    "if image_url:\n",
    "    print(f\"Image URL for '{book_title}': {image_url}\")\n",
    "else:\n",
    "    print(f\"Could not find image URL for '{book_title}'.\")\n"
   ]
  },
  {
   "cell_type": "code",
   "execution_count": 4,
   "metadata": {},
   "outputs": [
    {
     "data": {
      "text/plain": [
       "<Response [200]>"
      ]
     },
     "execution_count": 4,
     "metadata": {},
     "output_type": "execute_result"
    }
   ],
   "source": [
    "\n",
    "import requests\n",
    "url = \"https://openlibrary.org/search.json?q=test\"\n",
    "headers = {\n",
    "    \"User-Agent\": \"MyAppName/1.0 (myemail@example.com)\"\n",
    "}\n",
    "response = requests.get(url, headers=headers)\n",
    "response"
   ]
  }
 ],
 "metadata": {
  "kernelspec": {
   "display_name": ".venv",
   "language": "python",
   "name": "python3"
  },
  "language_info": {
   "codemirror_mode": {
    "name": "ipython",
    "version": 3
   },
   "file_extension": ".py",
   "mimetype": "text/x-python",
   "name": "python",
   "nbconvert_exporter": "python",
   "pygments_lexer": "ipython3",
   "version": "3.11.3"
  }
 },
 "nbformat": 4,
 "nbformat_minor": 2
}
